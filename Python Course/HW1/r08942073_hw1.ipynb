{
 "cells": [
  {
   "cell_type": "markdown",
   "metadata": {},
   "source": [
    "# Problem 1\n",
    "## Part A"
   ]
  },
  {
   "cell_type": "code",
   "execution_count": 1,
   "metadata": {},
   "outputs": [
    {
     "name": "stdout",
     "output_type": "stream",
     "text": [
      "[6, 14, 24, 36, 50]\n",
      "[6, 14, 24, 36, 50]\n"
     ]
    }
   ],
   "source": [
    "la = [1, 2, 3, 4, 5]\n",
    "lb = [6, 7, 8, 9, 10]\n",
    "\n",
    "# Version 1\n",
    "lc = list(map(lambda x, y: x*y, la, lb))\n",
    "print(lc)\n",
    "\n",
    "# Version 2\n",
    "lc = [x*y for x, y in zip(la, lb)]\n",
    "print(lc)"
   ]
  },
  {
   "cell_type": "markdown",
   "metadata": {},
   "source": [
    "## Part B"
   ]
  },
  {
   "cell_type": "code",
   "execution_count": 2,
   "metadata": {},
   "outputs": [
    {
     "name": "stdout",
     "output_type": "stream",
     "text": [
      "[1, 2, 3, 11, 13, 15, 17]\n",
      "[1, 2, 3, 11, 13, 15, 17]\n"
     ]
    }
   ],
   "source": [
    "l = [1, 2, \"3\", 11, \"13\", 15, \"17\"]\n",
    "\n",
    "# Version 1\n",
    "lc = list(map(lambda x: int(x), l))\n",
    "print(lc)\n",
    "\n",
    "# Version 2\n",
    "lc = [int(x) for x in l]\n",
    "print(lc)"
   ]
  },
  {
   "cell_type": "markdown",
   "metadata": {},
   "source": [
    "# Problem 2"
   ]
  },
  {
   "cell_type": "code",
   "execution_count": 7,
   "metadata": {},
   "outputs": [
    {
     "name": "stdout",
     "output_type": "stream",
     "text": [
      "1\n",
      "3\n",
      "5\n",
      "5\n",
      "2\n",
      "1\n"
     ]
    }
   ],
   "source": [
    "class rand_iter(object):\n",
    "    \n",
    "    def __init__(self, low = 1, high = 5, target = 4):\n",
    "        self.low = low\n",
    "        self.high = high\n",
    "        self.target = target\n",
    "    \n",
    "    def __iter__(self):\n",
    "        return self\n",
    "    \n",
    "    def __next__(self):\n",
    "        import random\n",
    "        self.rand = random.randrange(self.low, self.high+1)\n",
    "        \n",
    "        if self.target < self.low or self.target > self.high or self.rand == self.target:\n",
    "            raise StopIteration\n",
    "        else:\n",
    "            return self.rand\n",
    "\n",
    "for i in rand_iter(1, 5, 4):\n",
    "    print(i)"
   ]
  },
  {
   "cell_type": "markdown",
   "metadata": {},
   "source": [
    "# Problem 3\n",
    "## Part A"
   ]
  },
  {
   "cell_type": "code",
   "execution_count": 4,
   "metadata": {},
   "outputs": [
    {
     "name": "stdout",
     "output_type": "stream",
     "text": [
      "v(6,8)\n",
      "v(8,10)\n",
      "v(8,10)\n",
      "11\n",
      "17\n",
      "5\n"
     ]
    }
   ],
   "source": [
    "class Vector(object):\n",
    "    \n",
    "    total_vector = 0\n",
    "    \n",
    "    def __init__(self, x = 0, y = 0):\n",
    "        self.x = x\n",
    "        self.y = y\n",
    "        self.__class__.total_vector += 1\n",
    "    \n",
    "    def __add__(self,other):\n",
    "        if isinstance(other, list) or isinstance(other, tuple):\n",
    "            x = self.x + other[0]\n",
    "            y = self.y + other[1]\n",
    "        elif isinstance(other, Vector):\n",
    "            x = self.x + other.x\n",
    "            y = self.y + other.y\n",
    "        return Vector(x,y)\n",
    "      \n",
    "    def __mul__(self, other):\n",
    "        if isinstance(other, list) or isinstance(other, tuple):\n",
    "            return self.x * other[0] + self.y * other[1]\n",
    "        elif isinstance(other, Vector):\n",
    "            return self.x * other.x + self.y * other.y\n",
    "    \n",
    "    def __str__(self):\n",
    "        return \"v({0},{1})\".format(self.x,self.y)\n",
    "        \n",
    "    def __del__(self):\n",
    "        self.__class__.total_vector -= 1\n",
    "    \n",
    "    def total_points():\n",
    "        return __class__.total_vector\n",
    "\n",
    "p1 = Vector(1,2)\n",
    "p3 = p1 + (5, 6)\n",
    "p4 = p1 + [7, 8]\n",
    "p5 = p1 + (7, 8, 9)\n",
    "\n",
    "print(p3)  # You should get v(6, 8)\n",
    "print(p4)  # You should get v(8, 10)\n",
    "print(p5)  # you shuold also get v(8, 10)\n",
    "\n",
    "p6 = Vector(3, 4)\n",
    "n7 = p1 * p6\n",
    "n8 = p1 * (5, 6)\n",
    "print(n7)  # You should get 11\n",
    "print(n8)  # You should get 17\n",
    "\n",
    "print(Vector.total_points())"
   ]
  }
 ],
 "metadata": {
  "kernelspec": {
   "display_name": "Python 3",
   "language": "python",
   "name": "python3"
  },
  "language_info": {
   "codemirror_mode": {
    "name": "ipython",
    "version": 3
   },
   "file_extension": ".py",
   "mimetype": "text/x-python",
   "name": "python",
   "nbconvert_exporter": "python",
   "pygments_lexer": "ipython3",
   "version": "3.7.3"
  }
 },
 "nbformat": 4,
 "nbformat_minor": 2
}
